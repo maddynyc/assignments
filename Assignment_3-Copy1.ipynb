{
 "cells": [
  {
   "cell_type": "markdown",
   "metadata": {},
   "source": [
    "# Homework: Introduction to Python \n",
    "\n",
    "**Due: Thursday, Sept. 21**\n",
    "\n",
    "Your assignment should be handed in an ipython notebook checked into your github repository.\n",
    "\n",
    "## Optional But Recommended Reading\n",
    "\n",
    "Read the official [Python Tutorial](https://docs.python.org/3/tutorial/index.html) sections 1-5. This excellent, well written tutorial introduces all of the most important concepts of the core python language and its standard library. Even if you don't read it, you should know where to find it; if you get stuck, it should be your first place to turn for help.\n",
    "\n",
    "## Constraints\n",
    "\n",
    "* This assignment should be done in _basic python_: don't `import` any extra modules unless specifically instructed to do so.\n",
    "* You should work on this assignment _alone_. \n",
    "* Try to do the problems yourself. Refer to the lecture notes and the [Python Tutorial](https://docs.python.org/3/tutorial/index.html) if you get stuck. Avoid random googling and stack-overflowing. A perfect solution is less important than the process of figuring it out yourself.\n",
    "\n"
   ]
  },
  {
   "cell_type": "markdown",
   "metadata": {},
   "source": [
    "## 1. Dictionaries and Strings"
   ]
  },
  {
   "cell_type": "markdown",
   "metadata": {},
   "source": [
    "In this section we will explore a [dictionary](https://docs.python.org/3/tutorial/datastructures.html#dictionaries) whose keys and values are [strings](https://docs.python.org/3/tutorial/introduction.html#strings). \n",
    "\n",
    "Cut and paste the following code to read a data file. (You are not expected to understand exactly what is happening here...it's just a quick way for us to get some data into python.)\n",
    "\n",
    "    import pickle\n",
    "    with open('class_names.pkl', 'rb') as file:\n",
    "        data = pickle.load(file)\n",
    "\n",
    "This will load some pre-generated data into the variable `data`. "
   ]
  },
  {
   "cell_type": "code",
   "execution_count": 5,
   "metadata": {
    "collapsed": true
   },
   "outputs": [],
   "source": [
    "import pickle\n",
    "with open('class_names.pkl', 'rb') as file:\n",
    "    data = pickle.load(file)\n"
   ]
  },
  {
   "cell_type": "markdown",
   "metadata": {},
   "source": [
    "### 1.1 Examine the data by allowing the notebook to print it\n",
    "(Just enter `data` on the last line of the cell and execute it.)"
   ]
  },
  {
   "cell_type": "code",
   "execution_count": 2,
   "metadata": {},
   "outputs": [
    {
     "data": {
      "text/plain": [
       "{'akb2134': 'Bozack, Anne',\n",
       " 'cjc2252': 'Carchedi, Christopher',\n",
       " 'cjc2256': 'Chesley, Christine',\n",
       " 'cjm2246': 'Martinez-Zayas, Carlos',\n",
       " 'cp2850': 'Peltier, Carly',\n",
       " 'cr2630': 'Raymond, Colin',\n",
       " 'csl2164': 'Lesk, Corey',\n",
       " 'djk2120': 'Kennedy, Daniel',\n",
       " 'dpb2141': 'Babin, Daniel',\n",
       " 'ehc2150': 'Case, Elizabeth',\n",
       " 'jg3223': 'Guo, Jean',\n",
       " 'jwd2136': 'Doss-Gollin, James',\n",
       " 'lkg2133': 'Gruenburg, Laura',\n",
       " 'map2251': 'Pascolini-Campbell, Madeleine',\n",
       " 'meg2203': 'Gemma, Marina',\n",
       " 'mmf2171': 'Frenkel, Megan',\n",
       " 'njl2134': 'Lenssen, Nathan',\n",
       " 'nr2447': 'Ramesh, Nandini',\n",
       " 'rae2148': 'Esparzagamez, Ricardo',\n",
       " 'sb3210': 'Baek, Seung Hun',\n",
       " 'scw2148': 'Wong, Suki',\n",
       " 'sel2172': 'Lytle, Sara',\n",
       " 'sw2936': 'Wang, Siyan',\n",
       " 'tpj2104': 'Janoski, Tyler',\n",
       " 'tz2218': 'Zhang, Tianbo',\n",
       " 'ukm2103': 'Miller, Una',\n",
       " 'xj2176': 'Jin, Xiaomeng',\n",
       " 'yh3019': 'Huang, Yu'}"
      ]
     },
     "execution_count": 2,
     "metadata": {},
     "output_type": "execute_result"
    }
   ],
   "source": [
    "data"
   ]
  },
  {
   "cell_type": "markdown",
   "metadata": {},
   "source": [
    "## 1.2 Comare to the output of `print(data)`\n",
    "Which one is prettier?"
   ]
  },
  {
   "cell_type": "code",
   "execution_count": 3,
   "metadata": {},
   "outputs": [
    {
     "name": "stdout",
     "output_type": "stream",
     "text": [
      "{'dpb2141': 'Babin, Daniel', 'sb3210': 'Baek, Seung Hun', 'akb2134': 'Bozack, Anne', 'cjc2252': 'Carchedi, Christopher', 'ehc2150': 'Case, Elizabeth', 'cjc2256': 'Chesley, Christine', 'jwd2136': 'Doss-Gollin, James', 'rae2148': 'Esparzagamez, Ricardo', 'mmf2171': 'Frenkel, Megan', 'meg2203': 'Gemma, Marina', 'lkg2133': 'Gruenburg, Laura', 'jg3223': 'Guo, Jean', 'yh3019': 'Huang, Yu', 'tpj2104': 'Janoski, Tyler', 'xj2176': 'Jin, Xiaomeng', 'djk2120': 'Kennedy, Daniel', 'njl2134': 'Lenssen, Nathan', 'csl2164': 'Lesk, Corey', 'sel2172': 'Lytle, Sara', 'cjm2246': 'Martinez-Zayas, Carlos', 'ukm2103': 'Miller, Una', 'map2251': 'Pascolini-Campbell, Madeleine', 'cp2850': 'Peltier, Carly', 'nr2447': 'Ramesh, Nandini', 'cr2630': 'Raymond, Colin', 'sw2936': 'Wang, Siyan', 'scw2148': 'Wong, Suki', 'tz2218': 'Zhang, Tianbo'}\n"
     ]
    }
   ],
   "source": [
    "print(data)"
   ]
  },
  {
   "cell_type": "markdown",
   "metadata": {},
   "source": [
    "### 1.3 Determine what type of object is `data`"
   ]
  },
  {
   "cell_type": "code",
   "execution_count": 4,
   "metadata": {},
   "outputs": [
    {
     "data": {
      "text/plain": [
       "dict"
      ]
     },
     "execution_count": 4,
     "metadata": {},
     "output_type": "execute_result"
    }
   ],
   "source": [
    "type(data)"
   ]
  },
  {
   "cell_type": "markdown",
   "metadata": {},
   "source": [
    "### 1.4 Use python's built-in `help` function to find out what operations are available on `data`\n",
    "(What is the meaning of the methods that start with \\__?)"
   ]
  },
  {
   "cell_type": "code",
   "execution_count": null,
   "metadata": {
    "scrolled": false
   },
   "outputs": [],
   "source": []
  },
  {
   "cell_type": "markdown",
   "metadata": {},
   "source": [
    "By now it should be clear that `data` is a [dict](https://docs.python.org/3/library/stdtypes.html#mapping-types-dict)  (i.e. \"dictionary\") that maps UNIs to names for all students in the class.\n",
    "\n",
    "For the remaining questions, the point is to _have python tell you the answer_. (Obviously you could just manually count / sort the data, but that defeats the purpose!)\n",
    "\n",
    "### 1.5 How many entries are there in `data`"
   ]
  },
  {
   "cell_type": "code",
   "execution_count": 5,
   "metadata": {},
   "outputs": [
    {
     "data": {
      "text/plain": [
       "28"
      ]
     },
     "execution_count": 5,
     "metadata": {},
     "output_type": "execute_result"
    }
   ],
   "source": [
    "len(data)"
   ]
  },
  {
   "cell_type": "markdown",
   "metadata": {},
   "source": [
    "### 1.6 Is your UNI in `data`?"
   ]
  },
  {
   "cell_type": "code",
   "execution_count": 6,
   "metadata": {},
   "outputs": [
    {
     "data": {
      "text/plain": [
       "True"
      ]
     },
     "execution_count": 6,
     "metadata": {},
     "output_type": "execute_result"
    }
   ],
   "source": [
    "\"map2251\" in data.keys()"
   ]
  },
  {
   "cell_type": "markdown",
   "metadata": {},
   "source": [
    "### 1.7 How many total times does the character \"s\" appear in the names?\n",
    "Do this in a way that is not case sensitive,"
   ]
  },
  {
   "cell_type": "code",
   "execution_count": 17,
   "metadata": {},
   "outputs": [
    {
     "name": "stdout",
     "output_type": "stream",
     "text": [
      "17\n"
     ]
    }
   ],
   "source": [
    "data.values()\n",
    "d = data.values()\n",
    "d = str(d)\n",
    "d.lower()\n",
    "num_s=[]\n",
    "\n",
    "for x in range(0,len(d)):\n",
    "    if d[x] == 's':\n",
    "        num_s.append(d[x])\n",
    "\n",
    "print(len(num_s))\n",
    "    \n",
    "    \n",
    "\n",
    "\n"
   ]
  },
  {
   "cell_type": "markdown",
   "metadata": {},
   "source": [
    "### 1.7 Create a new dictionary that contains the same keys but only the first names as values"
   ]
  },
  {
   "cell_type": "code",
   "execution_count": 89,
   "metadata": {},
   "outputs": [
    {
     "name": "stdout",
     "output_type": "stream",
     "text": [
      "{'Daniel': 'djk2120', 'Seung': 'sb3210', 'Anne': 'akb2134', 'Christopher': 'cjc2252', 'Elizabeth': 'ehc2150', 'Christine': 'cjc2256', 'James': 'jwd2136', 'Ricardo': 'rae2148', 'Megan': 'mmf2171', 'Marina': 'meg2203', 'Laura': 'lkg2133', 'Jean': 'jg3223', 'Yu': 'yh3019', 'Tyler': 'tpj2104', 'Xiaomeng': 'xj2176', 'Nathan': 'njl2134', 'Corey': 'csl2164', 'Sara': 'sel2172', 'Carlos': 'cjm2246', 'Una': 'ukm2103', 'Madeleine': 'map2251', 'Carly': 'cp2850', 'Nandini': 'nr2447', 'Colin': 'cr2630', 'Siyan': 'sw2936', 'Suki': 'scw2148', 'Tianbo': 'tz2218'}\n"
     ]
    }
   ],
   "source": [
    "firsts = data.values()\n",
    "firsts=[i.split()[1] for i in firsts]\n",
    "keys = data.keys()\n",
    "\n",
    "newdict = zip(firsts,keys)\n",
    "newdict = dict(newdict)\n",
    "print(newdict)\n"
   ]
  },
  {
   "cell_type": "markdown",
   "metadata": {},
   "source": [
    "### 1.8 What is the longest first name?"
   ]
  },
  {
   "cell_type": "code",
   "execution_count": 99,
   "metadata": {},
   "outputs": [
    {
     "data": {
      "text/plain": [
       "'Christopher'"
      ]
     },
     "execution_count": 99,
     "metadata": {},
     "output_type": "execute_result"
    }
   ],
   "source": [
    "firsts = data.values()\n",
    "firsts=[i.split()[1] for i in firsts]\n",
    "\n",
    "length_name=[]\n",
    "for x in firsts:\n",
    "    length_name.append(len(x))\n",
    "    \n",
    "firsts[length_name.index(max(length_name))]\n"
   ]
  },
  {
   "cell_type": "markdown",
   "metadata": {},
   "source": [
    "### 1.9 Check that the first letter of each UNI matches the first letter of each first name\n",
    "(Be careful about the case.)"
   ]
  },
  {
   "cell_type": "code",
   "execution_count": 66,
   "metadata": {},
   "outputs": [
    {
     "name": "stdout",
     "output_type": "stream",
     "text": [
      "same\n",
      "same\n",
      "same\n",
      "same\n",
      "same\n",
      "same\n",
      "same\n",
      "same\n",
      "same\n",
      "same\n",
      "same\n",
      "same\n",
      "same\n",
      "same\n",
      "same\n",
      "same\n",
      "same\n",
      "same\n",
      "same\n",
      "same\n",
      "same\n",
      "same\n",
      "same\n",
      "same\n",
      "same\n",
      "same\n",
      "same\n",
      "same\n"
     ]
    }
   ],
   "source": [
    "firsts = data.values()\n",
    "firsts=[i.split()[1] for i in firsts]\n",
    "\n",
    "keys = list(data.keys())\n",
    "\n",
    "for x in range(0,len(keys)):\n",
    "    k =(keys[x])\n",
    "    k=k.lower()\n",
    "    k=k[0]\n",
    "    f = (firsts[x])\n",
    "    f=f.lower()\n",
    "    f=f[0]\n",
    "    \n",
    "  \n",
    "    if k != f:\n",
    "        print('not same')\n",
    "    else:\n",
    "        print('same')\n",
    "         \n"
   ]
  },
  {
   "cell_type": "markdown",
   "metadata": {},
   "source": [
    "## 2 Lists and Numbers\n",
    "\n",
    "In this section, we will play with a [list](https://docs.python.org/3/tutorial/introduction.html#lists) of [numbers](https://docs.python.org/3/tutorial/introduction.html#numbers).\n",
    "\n",
    "Keep in mind that doing lots of numerical calculations on lists of numbers (using just core python) is somewhat awkward and inefficient. [Numpy](http://www.numpy.org/) makes this sort of work much easier; in order to appreciate numpy, however, it is useful to first do things the \"hard way\".\n",
    "\n",
    "Run this chunk of code to load some data.\n",
    "\n",
    "    with open('numbers.pkl', 'rb') as file:\n",
    "        numbers = pickle.load(file)"
   ]
  },
  {
   "cell_type": "code",
   "execution_count": 69,
   "metadata": {
    "collapsed": true
   },
   "outputs": [],
   "source": [
    "with open('numbers.pkl', 'rb') as file:\n",
    "    numbers = pickle.load(file)"
   ]
  },
  {
   "cell_type": "markdown",
   "metadata": {},
   "source": [
    "### 2.1 Confirm that `numbers` is indeed a list"
   ]
  },
  {
   "cell_type": "code",
   "execution_count": 17,
   "metadata": {},
   "outputs": [
    {
     "data": {
      "text/plain": [
       "list"
      ]
     },
     "execution_count": 17,
     "metadata": {},
     "output_type": "execute_result"
    }
   ],
   "source": [
    "type(numbers)\n"
   ]
  },
  {
   "cell_type": "markdown",
   "metadata": {},
   "source": [
    "### 2.2 How many items are in `numbers`?"
   ]
  },
  {
   "cell_type": "code",
   "execution_count": 18,
   "metadata": {},
   "outputs": [
    {
     "data": {
      "text/plain": [
       "2519"
      ]
     },
     "execution_count": 18,
     "metadata": {},
     "output_type": "execute_result"
    }
   ],
   "source": [
    "len(numbers)\n"
   ]
  },
  {
   "cell_type": "markdown",
   "metadata": {},
   "source": [
    "### 2.3 What is the difference between the first and last values?"
   ]
  },
  {
   "cell_type": "code",
   "execution_count": 19,
   "metadata": {},
   "outputs": [
    {
     "data": {
      "text/plain": [
       "8827.208984375"
      ]
     },
     "execution_count": 19,
     "metadata": {},
     "output_type": "execute_result"
    }
   ],
   "source": [
    "numbers[2518]-numbers[0]\n"
   ]
  },
  {
   "cell_type": "markdown",
   "metadata": {},
   "source": [
    "### 2.4 What are thre first five and last five items?"
   ]
  },
  {
   "cell_type": "code",
   "execution_count": 23,
   "metadata": {},
   "outputs": [
    {
     "data": {
      "text/plain": [
       "[21753.310546875,\n",
       " 21807.640625,\n",
       " 21784.779296875,\n",
       " 21797.7890625,\n",
       " 22057.369140625]"
      ]
     },
     "execution_count": 23,
     "metadata": {},
     "output_type": "execute_result"
    }
   ],
   "source": [
    "numbers[0:5]\n",
    "numbers[2513:2518]\n"
   ]
  },
  {
   "cell_type": "markdown",
   "metadata": {},
   "source": [
    "### 2.5 What is the type of the first item? Confirm that all items have the same type."
   ]
  },
  {
   "cell_type": "code",
   "execution_count": 26,
   "metadata": {
    "collapsed": true
   },
   "outputs": [],
   "source": [
    "type(numbers[0])\n",
    "\n",
    "\n",
    "\n",
    "for i in numbers:\n",
    "    answer=isinstance(i,float)\n",
    "    if answer == False:\n",
    "        print('Not all are float')"
   ]
  },
  {
   "cell_type": "markdown",
   "metadata": {},
   "source": [
    "### 2.6 What are the minimum and maximum values in `numbers`?"
   ]
  },
  {
   "cell_type": "code",
   "execution_count": 28,
   "metadata": {},
   "outputs": [
    {
     "name": "stdout",
     "output_type": "stream",
     "text": [
      "22118.859375 6547.0498046875\n"
     ]
    }
   ],
   "source": [
    "mx=max(numbers)\n",
    "\n",
    "mn=min(numbers)\n",
    "\n",
    "print(mx,mn)"
   ]
  },
  {
   "cell_type": "markdown",
   "metadata": {},
   "source": [
    "### 2.7 What is the mean value?"
   ]
  },
  {
   "cell_type": "code",
   "execution_count": 29,
   "metadata": {},
   "outputs": [
    {
     "data": {
      "text/plain": [
       "14174.955465222125"
      ]
     },
     "execution_count": 29,
     "metadata": {},
     "output_type": "execute_result"
    }
   ],
   "source": [
    "sum(numbers)/len(numbers)\n"
   ]
  },
  {
   "cell_type": "markdown",
   "metadata": {},
   "source": [
    "### 2.8 What is the standard deviation?"
   ]
  },
  {
   "cell_type": "code",
   "execution_count": 30,
   "metadata": {},
   "outputs": [
    {
     "name": "stdout",
     "output_type": "stream",
     "text": [
      "158.27776114664488\n"
     ]
    }
   ],
   "source": [
    "for x in numbers:\n",
    "    ss = x - (sum(numbers)/len(numbers))\n",
    "    sss = ss**2\n",
    "    ssss = sss/len(numbers)\n",
    "    stddev = ssss**0.5\n",
    "print(stddev)"
   ]
  },
  {
   "cell_type": "markdown",
   "metadata": {},
   "source": [
    "### 2.9 What is the largest (most positive) and smallest (most negative)  _change_ from one value to the next"
   ]
  },
  {
   "cell_type": "code",
   "execution_count": 32,
   "metadata": {},
   "outputs": [
    {
     "name": "stdout",
     "output_type": "stream",
     "text": [
      "99.5 936.419921875\n"
     ]
    }
   ],
   "source": [
    "e = [] #empty list\n",
    "for x in range(0,len(numbers)-1):\n",
    "    diff = numbers[x+1]-numbers[x]\n",
    "    e.append(str(diff))#append differnce to the empty list\n",
    "\n",
    "pos=max(e) #largest pos val for difference\n",
    "\n",
    "\n",
    "absval=[] #need absolute value for the negative change...\n",
    "for x in range(0,len(e)):\n",
    "    abs = (float(e[x])**2)**0.5#find abs val of each member of the list\n",
    "    absval.append(abs)\n",
    "\n",
    "neg=max(absval)\n",
    "\n",
    "print(pos,neg)"
   ]
  },
  {
   "cell_type": "markdown",
   "metadata": {},
   "source": [
    "### Bonus: can you guess the source of these numbers?"
   ]
  },
  {
   "cell_type": "code",
   "execution_count": 71,
   "metadata": {},
   "outputs": [
    {
     "data": {
      "image/png": "[encoded data removed]",
      "text/plain": [
       "<matplotlib.figure.Figure at 0x1130c52b0>"
      ]
     },
     "metadata": {},
     "output_type": "display_data"
    }
   ],
   "source": [
    "import matplotlib.pyplot as plt\n",
    "plt.plot(numbers)\n",
    "plt.show()"
   ]
  },
  {
   "cell_type": "markdown",
   "metadata": {},
   "source": [
    "## 3 Lists vs. Tuples\n",
    "\n",
    "The difference between [lists](https://docs.python.org/3/tutorial/datastructures.html#more-on-lists) and [tuples](https://docs.python.org/3/tutorial/datastructures.html#tuples-and-sequences) is a persistent source of confusion about python. The key difference is that **lists are mutable** while **tuples are immutable**. This short exercise is designed to help you understand what this means."
   ]
  },
  {
   "cell_type": "markdown",
   "metadata": {},
   "source": [
    "### 3.1 Create a list of the first three planets in the solar system"
   ]
  },
  {
   "cell_type": "code",
   "execution_count": 74,
   "metadata": {
    "collapsed": true
   },
   "outputs": [],
   "source": [
    "planets =['mercury','venus','earth']"
   ]
  },
  {
   "cell_type": "markdown",
   "metadata": {
    "collapsed": true
   },
   "source": [
    "### 3.2 Append the fourth planet to the end of the list\n",
    "(Print the list so you can verify its contents after every modification)"
   ]
  },
  {
   "cell_type": "code",
   "execution_count": 34,
   "metadata": {},
   "outputs": [
    {
     "name": "stdout",
     "output_type": "stream",
     "text": [
      "['mercury', 'venus', 'earth', 'mars']\n"
     ]
    }
   ],
   "source": [
    "planets.append('mars')\n",
    "print(planets)\n"
   ]
  },
  {
   "cell_type": "markdown",
   "metadata": {},
   "source": [
    "### 3.3 Venus has exploded. Remove it from the list"
   ]
  },
  {
   "cell_type": "code",
   "execution_count": 35,
   "metadata": {},
   "outputs": [
    {
     "data": {
      "text/plain": [
       "['mercury', 'earth', 'mars']"
      ]
     },
     "execution_count": 35,
     "metadata": {},
     "output_type": "execute_result"
    }
   ],
   "source": [
    "planets.remove('venus')\n",
    "planets\n"
   ]
  },
  {
   "cell_type": "markdown",
   "metadata": {},
   "source": [
    "### 3.4 Convert the last item of your list to upper case"
   ]
  },
  {
   "cell_type": "code",
   "execution_count": 77,
   "metadata": {},
   "outputs": [
    {
     "data": {
      "text/plain": [
       "['mercury', 'venus', 'MARS']"
      ]
     },
     "execution_count": 77,
     "metadata": {},
     "output_type": "execute_result"
    }
   ],
   "source": [
    "planets[2]='MARS'\n",
    "planets"
   ]
  },
  {
   "cell_type": "markdown",
   "metadata": {},
   "source": [
    "### 3.5 Create a tuple of the first three planets in the solar system"
   ]
  },
  {
   "cell_type": "code",
   "execution_count": 36,
   "metadata": {
    "collapsed": true
   },
   "outputs": [],
   "source": [
    "planets_tuple = 'mercury','venus','earth'"
   ]
  },
  {
   "cell_type": "markdown",
   "metadata": {},
   "source": [
    "### 3.6 Try to append or remove items from the tuple\n",
    "Go ahead, try it! I dare you!"
   ]
  },
  {
   "cell_type": "code",
   "execution_count": 37,
   "metadata": {},
   "outputs": [
    {
     "ename": "NameError",
     "evalue": "name 'append' is not defined",
     "output_type": "error",
     "traceback": [
      "\u001b[0;31m---------------------------------------------------------------------------\u001b[0m",
      "\u001b[0;31mNameError\u001b[0m                                 Traceback (most recent call last)",
      "\u001b[0;32m<ipython-input-37-be6c8b8bfe40>\u001b[0m in \u001b[0;36m<module>\u001b[0;34m()\u001b[0m\n\u001b[0;32m----> 1\u001b[0;31m \u001b[0mappend\u001b[0m\u001b[0;34m.\u001b[0m\u001b[0mplanets_tuple\u001b[0m \u001b[0;34m=\u001b[0m\u001b[0;34m'asteroid'\u001b[0m\u001b[0;34m\u001b[0m\u001b[0m\n\u001b[0m",
      "\u001b[0;31mNameError\u001b[0m: name 'append' is not defined"
     ]
    }
   ],
   "source": [
    " append.planets_tuple ='asteroid'"
   ]
  },
  {
   "cell_type": "markdown",
   "metadata": {},
   "source": [
    "### 3.7 Create a new tuple by concatenating a second tuple to your original tuple\n",
    "(No loops needed). It should work. Check your original tuple. Did it change?"
   ]
  },
  {
   "cell_type": "code",
   "execution_count": 38,
   "metadata": {},
   "outputs": [
    {
     "data": {
      "text/plain": [
       "(('mercury', 'venus', 'earth'), 'jupiter')"
      ]
     },
     "execution_count": 38,
     "metadata": {},
     "output_type": "execute_result"
    }
   ],
   "source": [
    "planet2 = 'jupiter'\n",
    "p = planets_tuple, planet2 #concatenate \n",
    "p\n",
    "(('mercury', 'venus', 'earth'), 'jupiter')"
   ]
  },
  {
   "cell_type": "markdown",
   "metadata": {},
   "source": [
    "## 4 Standard Library: `datetime`\n",
    "\n",
    "Basic python comes with a powerful [\"standard library\"](https://docs.python.org/3/tutorial/stdlib.html) of modules which help you do useful things like interact with the operating system, perform complex pattern matching on strings using regular expressions, and open network connections. This standard library is too big for us to learn every module: the point here is just to be aware that it exists.\n",
    "\n",
    "In this exercise we will also explore a simple but powerful module from python's standard library: the [`datetime` module](https://docs.python.org/3/tutorial/stdlib.html#dates-and-times)."
   ]
  },
  {
   "cell_type": "markdown",
   "metadata": {},
   "source": [
    "### 4.1 Import the datetime module"
   ]
  },
  {
   "cell_type": "code",
   "execution_count": 83,
   "metadata": {
    "collapsed": true
   },
   "outputs": [],
   "source": [
    "from datetime import date"
   ]
  },
  {
   "cell_type": "markdown",
   "metadata": {},
   "source": [
    "### 4.2 Read the built-in help on `datetime.date` and `datetime.timedelta`\n",
    "\n",
    "These are the two functions we will be using from the `datetime` module."
   ]
  },
  {
   "cell_type": "code",
   "execution_count": 88,
   "metadata": {},
   "outputs": [
    {
     "ename": "NameError",
     "evalue": "name 'datetime' is not defined",
     "output_type": "error",
     "traceback": [
      "\u001b[0;31m---------------------------------------------------------------------------\u001b[0m",
      "\u001b[0;31mNameError\u001b[0m                                 Traceback (most recent call last)",
      "\u001b[0;32m<ipython-input-88-58e48e50ecfd>\u001b[0m in \u001b[0;36m<module>\u001b[0;34m()\u001b[0m\n\u001b[0;32m----> 1\u001b[0;31m \u001b[0mhelp\u001b[0m\u001b[0;34m(\u001b[0m\u001b[0mdatetime\u001b[0m\u001b[0;34m.\u001b[0m\u001b[0mdate\u001b[0m\u001b[0;34m)\u001b[0m\u001b[0;34m\u001b[0m\u001b[0m\n\u001b[0m",
      "\u001b[0;31mNameError\u001b[0m: name 'datetime' is not defined"
     ]
    }
   ],
   "source": []
  },
  {
   "cell_type": "code",
   "execution_count": null,
   "metadata": {
    "collapsed": true
   },
   "outputs": [],
   "source": []
  },
  {
   "cell_type": "markdown",
   "metadata": {},
   "source": [
    "### 4.3 Create a `datetime.date` object for your birthday"
   ]
  },
  {
   "cell_type": "code",
   "execution_count": 91,
   "metadata": {},
   "outputs": [
    {
     "data": {
      "text/plain": [
       "datetime.date(1989, 12, 25)"
      ]
     },
     "execution_count": 91,
     "metadata": {},
     "output_type": "execute_result"
    }
   ],
   "source": [
    "mybirthday = date(1989, 12, 25)\n",
    "mybirthday"
   ]
  },
  {
   "cell_type": "markdown",
   "metadata": {},
   "source": [
    "### 4.4 What day of the week was your birthday on?"
   ]
  },
  {
   "cell_type": "code",
   "execution_count": 93,
   "metadata": {},
   "outputs": [
    {
     "data": {
      "text/plain": [
       "'12-25-89. 25 Dec 1989 is a Monday on the 25 day of December.'"
      ]
     },
     "execution_count": 93,
     "metadata": {},
     "output_type": "execute_result"
    }
   ],
   "source": [
    "mybirthday.strftime(\"%m-%d-%y. %d %b %Y is a %A on the %d day of %B.\")"
   ]
  },
  {
   "cell_type": "markdown",
   "metadata": {
    "collapsed": true
   },
   "source": [
    "### 4.5 Find out how many days have elapsed since your birthday?"
   ]
  },
  {
   "cell_type": "code",
   "execution_count": 97,
   "metadata": {},
   "outputs": [
    {
     "data": {
      "text/plain": [
       "10130"
      ]
     },
     "execution_count": 97,
     "metadata": {},
     "output_type": "execute_result"
    }
   ],
   "source": [
    "now = date.today()\n",
    "time_elapse = now-mybirthday\n",
    "time_elapse.days"
   ]
  },
  {
   "cell_type": "markdown",
   "metadata": {},
   "source": [
    "## 5 Functions\n",
    "\n",
    "Learning to write our own [functions](https://docs.python.org/3/tutorial/controlflow.html#defining-functions) is an important step towards writing more sophisticated programs. Here will will practice writing functions. "
   ]
  },
  {
   "cell_type": "markdown",
   "metadata": {},
   "source": [
    "As an example, we will consider the [harmonic series](https://en.wikipedia.org/wiki/Harmonic_series_%28mathematics%29), defined as\n",
    "\n",
    "$$\n",
    "\\sum^N_{n=1}\\frac{1}{n} \n",
    "$$\n",
    "\n",
    "This series diverges logarithmically.\n",
    "\n",
    "### 5.1 Write a function to compute the value of the harmonic series up to `N` terms\n",
    "\n",
    "The function shold have one argument: `N`. It should `return` the series sum."
   ]
  },
  {
   "cell_type": "code",
   "execution_count": 141,
   "metadata": {},
   "outputs": [],
   "source": [
    "def harmonic(n):\n",
    "    val=0\n",
    "    \n",
    "    for i in range(1,n):\n",
    "       \n",
    "        val=val+(1/i)\n",
    "              \n",
    "    return val\n",
    "    "
   ]
  },
  {
   "cell_type": "markdown",
   "metadata": {},
   "source": [
    "### 5.2 What is the value of the harmonic series after 1000 and 1000000 iterations"
   ]
  },
  {
   "cell_type": "code",
   "execution_count": 150,
   "metadata": {},
   "outputs": [
    {
     "name": "stdout",
     "output_type": "stream",
     "text": [
      "7.484470860550343 16.69531126585727\n"
     ]
    }
   ],
   "source": [
    "print(harmonic(1000),harmonic(10000000))\n"
   ]
  },
  {
   "cell_type": "markdown",
   "metadata": {},
   "source": [
    "The alternating harmonic series:\n",
    "    \n",
    "$$\n",
    "\\sum^N_{n=1}\\frac{(-1)^{n+1}}{n} \n",
    "$$\n",
    "\n",
    "_does_ converge.\n",
    "\n",
    "### 5.3 Write a function to compute the value of the alternating  harmonic series up to `N` terms"
   ]
  },
  {
   "cell_type": "code",
   "execution_count": 145,
   "metadata": {
    "collapsed": true
   },
   "outputs": [],
   "source": [
    "def harmonicalt(n):\n",
    "    val=0\n",
    "    \n",
    "    for i in range(1,n):\n",
    "       \n",
    "        val=val+(((-1)**(i+1))/i)\n",
    "              \n",
    "    return val\n",
    "    "
   ]
  },
  {
   "cell_type": "markdown",
   "metadata": {},
   "source": [
    "### 5.2 What is the value of the alternating harmonic series after 1000 and 1000000 iterations"
   ]
  },
  {
   "cell_type": "code",
   "execution_count": 149,
   "metadata": {},
   "outputs": [
    {
     "name": "stdout",
     "output_type": "stream",
     "text": [
      "0.6936474305598223 0.6931476805602526\n"
     ]
    }
   ],
   "source": [
    "print(harmonicalt(1000),harmonicalt(1000000))"
   ]
  },
  {
   "cell_type": "markdown",
   "metadata": {},
   "source": [
    "### 5.3 Numerical convergence test\n",
    "\n",
    "Now for something more complicated: we will write a function that tests whether another function converges. As its first argument, this function should accept _another function_. It should also have _optional keyword arguments_ that specify\n",
    "\n",
    "* the numerical tolerance (how close is close enough to consider a series converged?)\n",
    "* the number of iterations (we can't iterate an infinite number of times, we just have to pick a \"large number\")\n",
    "\n",
    "This function should print a statement telling what it found. If the test function converges, print the value it converges to.\n",
    "\n",
    "_(Hint: the alernating harmonic series oscillates strongly around the asymptotic value. So checking neighboring points may not be the best way to test for convergence. Can you think of a more robust method?)_"
   ]
  },
  {
   "cell_type": "code",
   "execution_count": 162,
   "metadata": {},
   "outputs": [
    {
     "ename": "SyntaxError",
     "evalue": "invalid syntax (<ipython-input-162-36c8750fcec7>, line 1)",
     "output_type": "error",
     "traceback": [
      "\u001b[0;36m  File \u001b[0;32m\"<ipython-input-162-36c8750fcec7>\"\u001b[0;36m, line \u001b[0;32m1\u001b[0m\n\u001b[0;31m    def converge[x]:\u001b[0m\n\u001b[0m                ^\u001b[0m\n\u001b[0;31mSyntaxError\u001b[0m\u001b[0;31m:\u001b[0m invalid syntax\n"
     ]
    }
   ],
   "source": [
    "def converge(x):\n",
    "\n",
    "    for i in range(0,len(x)):\n",
    "        \n",
    "        if b<a:\n",
    "            a=x[i]\n",
    "            b=x[i+1]\n",
    "            \n",
    "        elif b>a:\n",
    "                    print('does not converge')\n",
    "                \n",
    "        return\n",
    "          "
   ]
  },
  {
   "cell_type": "markdown",
   "metadata": {},
   "source": [
    "### 5.3 Use your convergence test function see that the harmonic series diverges and the alternating harmonic series converges?\n",
    "\n",
    "Explore the sensitivity to the two optional parameters. What are the tradeoffs between tolerance and number of iterations?"
   ]
  },
  {
   "cell_type": "code",
   "execution_count": 164,
   "metadata": {},
   "outputs": [
    {
     "ename": "TypeError",
     "evalue": "object of type 'float' has no len()",
     "output_type": "error",
     "traceback": [
      "\u001b[0;31m---------------------------------------------------------------------------\u001b[0m",
      "\u001b[0;31mTypeError\u001b[0m                                 Traceback (most recent call last)",
      "\u001b[0;32m<ipython-input-164-3fd23d5c1693>\u001b[0m in \u001b[0;36m<module>\u001b[0;34m()\u001b[0m\n\u001b[0;32m----> 1\u001b[0;31m \u001b[0mconverge\u001b[0m\u001b[0;34m(\u001b[0m\u001b[0mharmonicalt\u001b[0m\u001b[0;34m(\u001b[0m\u001b[0;36m10\u001b[0m\u001b[0;34m)\u001b[0m\u001b[0;34m)\u001b[0m\u001b[0;34m\u001b[0m\u001b[0m\n\u001b[0m",
      "\u001b[0;32m<ipython-input-160-c89a51a7bc15>\u001b[0m in \u001b[0;36mconverge\u001b[0;34m(x)\u001b[0m\n\u001b[1;32m      1\u001b[0m \u001b[0;32mdef\u001b[0m \u001b[0mconverge\u001b[0m\u001b[0;34m(\u001b[0m\u001b[0mx\u001b[0m\u001b[0;34m)\u001b[0m\u001b[0;34m:\u001b[0m\u001b[0;34m\u001b[0m\u001b[0m\n\u001b[1;32m      2\u001b[0m \u001b[0;34m\u001b[0m\u001b[0m\n\u001b[0;32m----> 3\u001b[0;31m     \u001b[0;32mfor\u001b[0m \u001b[0mi\u001b[0m \u001b[0;32min\u001b[0m \u001b[0mrange\u001b[0m\u001b[0;34m(\u001b[0m\u001b[0;36m0\u001b[0m\u001b[0;34m,\u001b[0m\u001b[0mlen\u001b[0m\u001b[0;34m(\u001b[0m\u001b[0mx\u001b[0m\u001b[0;34m)\u001b[0m\u001b[0;34m)\u001b[0m\u001b[0;34m:\u001b[0m\u001b[0;34m\u001b[0m\u001b[0m\n\u001b[0m\u001b[1;32m      4\u001b[0m \u001b[0;34m\u001b[0m\u001b[0m\n\u001b[1;32m      5\u001b[0m         \u001b[0;32mif\u001b[0m \u001b[0mb\u001b[0m\u001b[0;34m<\u001b[0m\u001b[0ma\u001b[0m\u001b[0;34m:\u001b[0m\u001b[0;34m\u001b[0m\u001b[0m\n",
      "\u001b[0;31mTypeError\u001b[0m: object of type 'float' has no len()"
     ]
    }
   ],
   "source": [
    "converge(harmonicalt(10))"
   ]
  },
  {
   "cell_type": "code",
   "execution_count": null,
   "metadata": {
    "collapsed": true
   },
   "outputs": [],
   "source": []
  }
 ],
 "metadata": {
  "kernelspec": {
   "display_name": "Python 3",
   "language": "python",
   "name": "python3"
  },
  "language_info": {
   "codemirror_mode": {
    "name": "ipython",
    "version": 3
   },
   "file_extension": ".py",
   "mimetype": "text/x-python",
   "name": "python",
   "nbconvert_exporter": "python",
   "pygments_lexer": "ipython3",
   "version": "3.6.1"
  }
 },
 "nbformat": 4,
 "nbformat_minor": 2
}
